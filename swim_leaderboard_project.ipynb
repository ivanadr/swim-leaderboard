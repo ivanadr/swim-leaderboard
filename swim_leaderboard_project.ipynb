{
  "nbformat": 4,
  "nbformat_minor": 0,
  "metadata": {
    "colab": {
      "provenance": []
    },
    "kernelspec": {
      "name": "python3",
      "display_name": "Python 3"
    },
    "language_info": {
      "name": "python"
    }
  },
  "cells": [
    {
      "cell_type": "code",
      "metadata": {
        "id": "jmSHUPIQqhWw",
        "colab": {
          "base_uri": "https://localhost:8080/",
          "height": 382
        },
        "outputId": "e32b1eec-58b2-4564-ba31-d9c3436829c4"
      },
      "source": [
        "import pandas as pd\n",
        "import matplotlib.pyplot as plt\n",
        "import seaborn as sns\n",
        "import random\n",
        "import numpy as np\n",
        "from datetime import datetime, timedelta\n",
        "from google.colab import auth\n",
        "auth.authenticate_user()\n",
        "import gspread\n",
        "from oauth2client.client import GoogleCredentials\n",
        "gc = gspread.authorize(GoogleCredentials.get_application_default())\n",
        "\n",
        "gs_challenge = gc.open('NYUAD Swim Challenge 2 (Responses)').sheet1\n",
        "gs_teams = gc.open('Team Registration for NYUAD Swim Challenge 2 (Responses)').sheet1\n",
        "gs_challenge1 = gc.open('NYUAD Swim Challenge 1 (Responses)').worksheet(\"clean_data\")\n"
      ],
      "execution_count": 3,
      "outputs": [
        {
          "output_type": "error",
          "ename": "KeyboardInterrupt",
          "evalue": "",
          "traceback": [
            "\u001b[0;31m---------------------------------------------------------------------------\u001b[0m",
            "\u001b[0;31mKeyboardInterrupt\u001b[0m                         Traceback (most recent call last)",
            "\u001b[0;32m<ipython-input-3-8c0622cdc0a6>\u001b[0m in \u001b[0;36m<cell line: 8>\u001b[0;34m()\u001b[0m\n\u001b[1;32m      6\u001b[0m \u001b[0;32mfrom\u001b[0m \u001b[0mdatetime\u001b[0m \u001b[0;32mimport\u001b[0m \u001b[0mdatetime\u001b[0m\u001b[0;34m,\u001b[0m \u001b[0mtimedelta\u001b[0m\u001b[0;34m\u001b[0m\u001b[0;34m\u001b[0m\u001b[0m\n\u001b[1;32m      7\u001b[0m \u001b[0;32mfrom\u001b[0m \u001b[0mgoogle\u001b[0m\u001b[0;34m.\u001b[0m\u001b[0mcolab\u001b[0m \u001b[0;32mimport\u001b[0m \u001b[0mauth\u001b[0m\u001b[0;34m\u001b[0m\u001b[0;34m\u001b[0m\u001b[0m\n\u001b[0;32m----> 8\u001b[0;31m \u001b[0mauth\u001b[0m\u001b[0;34m.\u001b[0m\u001b[0mauthenticate_user\u001b[0m\u001b[0;34m(\u001b[0m\u001b[0;34m)\u001b[0m\u001b[0;34m\u001b[0m\u001b[0;34m\u001b[0m\u001b[0m\n\u001b[0m\u001b[1;32m      9\u001b[0m \u001b[0;32mimport\u001b[0m \u001b[0mgspread\u001b[0m\u001b[0;34m\u001b[0m\u001b[0;34m\u001b[0m\u001b[0m\n\u001b[1;32m     10\u001b[0m \u001b[0;32mfrom\u001b[0m \u001b[0moauth2client\u001b[0m\u001b[0;34m.\u001b[0m\u001b[0mclient\u001b[0m \u001b[0;32mimport\u001b[0m \u001b[0mGoogleCredentials\u001b[0m\u001b[0;34m\u001b[0m\u001b[0;34m\u001b[0m\u001b[0m\n",
            "\u001b[0;32m/usr/local/lib/python3.10/dist-packages/google/colab/auth.py\u001b[0m in \u001b[0;36mauthenticate_user\u001b[0;34m(clear_output, project_id)\u001b[0m\n\u001b[1;32m    279\u001b[0m   \u001b[0;32mif\u001b[0m \u001b[0;32mnot\u001b[0m \u001b[0m_check_adc\u001b[0m\u001b[0;34m(\u001b[0m\u001b[0m_CredentialType\u001b[0m\u001b[0;34m.\u001b[0m\u001b[0mUSER\u001b[0m\u001b[0;34m)\u001b[0m\u001b[0;34m:\u001b[0m\u001b[0;34m\u001b[0m\u001b[0;34m\u001b[0m\u001b[0m\n\u001b[1;32m    280\u001b[0m     \u001b[0;32mif\u001b[0m \u001b[0muse_auth_ephem\u001b[0m\u001b[0;34m:\u001b[0m\u001b[0;34m\u001b[0m\u001b[0;34m\u001b[0m\u001b[0m\n\u001b[0;32m--> 281\u001b[0;31m       _message.blocking_request(\n\u001b[0m\u001b[1;32m    282\u001b[0m           \u001b[0;34m'request_auth'\u001b[0m\u001b[0;34m,\u001b[0m\u001b[0;34m\u001b[0m\u001b[0;34m\u001b[0m\u001b[0m\n\u001b[1;32m    283\u001b[0m           \u001b[0mrequest\u001b[0m\u001b[0;34m=\u001b[0m\u001b[0;34m{\u001b[0m\u001b[0;34m'authType'\u001b[0m\u001b[0;34m:\u001b[0m \u001b[0;34m'auth_user_ephemeral'\u001b[0m\u001b[0;34m}\u001b[0m\u001b[0;34m,\u001b[0m\u001b[0;34m\u001b[0m\u001b[0;34m\u001b[0m\u001b[0m\n",
            "\u001b[0;32m/usr/local/lib/python3.10/dist-packages/google/colab/_message.py\u001b[0m in \u001b[0;36mblocking_request\u001b[0;34m(request_type, request, timeout_sec, parent)\u001b[0m\n\u001b[1;32m    174\u001b[0m       \u001b[0mrequest_type\u001b[0m\u001b[0;34m,\u001b[0m \u001b[0mrequest\u001b[0m\u001b[0;34m,\u001b[0m \u001b[0mparent\u001b[0m\u001b[0;34m=\u001b[0m\u001b[0mparent\u001b[0m\u001b[0;34m,\u001b[0m \u001b[0mexpect_reply\u001b[0m\u001b[0;34m=\u001b[0m\u001b[0;32mTrue\u001b[0m\u001b[0;34m\u001b[0m\u001b[0;34m\u001b[0m\u001b[0m\n\u001b[1;32m    175\u001b[0m   )\n\u001b[0;32m--> 176\u001b[0;31m   \u001b[0;32mreturn\u001b[0m \u001b[0mread_reply_from_input\u001b[0m\u001b[0;34m(\u001b[0m\u001b[0mrequest_id\u001b[0m\u001b[0;34m,\u001b[0m \u001b[0mtimeout_sec\u001b[0m\u001b[0;34m)\u001b[0m\u001b[0;34m\u001b[0m\u001b[0;34m\u001b[0m\u001b[0m\n\u001b[0m",
            "\u001b[0;32m/usr/local/lib/python3.10/dist-packages/google/colab/_message.py\u001b[0m in \u001b[0;36mread_reply_from_input\u001b[0;34m(message_id, timeout_sec)\u001b[0m\n\u001b[1;32m     94\u001b[0m     \u001b[0mreply\u001b[0m \u001b[0;34m=\u001b[0m \u001b[0m_read_next_input_message\u001b[0m\u001b[0;34m(\u001b[0m\u001b[0;34m)\u001b[0m\u001b[0;34m\u001b[0m\u001b[0;34m\u001b[0m\u001b[0m\n\u001b[1;32m     95\u001b[0m     \u001b[0;32mif\u001b[0m \u001b[0mreply\u001b[0m \u001b[0;34m==\u001b[0m \u001b[0m_NOT_READY\u001b[0m \u001b[0;32mor\u001b[0m \u001b[0;32mnot\u001b[0m \u001b[0misinstance\u001b[0m\u001b[0;34m(\u001b[0m\u001b[0mreply\u001b[0m\u001b[0;34m,\u001b[0m \u001b[0mdict\u001b[0m\u001b[0;34m)\u001b[0m\u001b[0;34m:\u001b[0m\u001b[0;34m\u001b[0m\u001b[0;34m\u001b[0m\u001b[0m\n\u001b[0;32m---> 96\u001b[0;31m       \u001b[0mtime\u001b[0m\u001b[0;34m.\u001b[0m\u001b[0msleep\u001b[0m\u001b[0;34m(\u001b[0m\u001b[0;36m0.025\u001b[0m\u001b[0;34m)\u001b[0m\u001b[0;34m\u001b[0m\u001b[0;34m\u001b[0m\u001b[0m\n\u001b[0m\u001b[1;32m     97\u001b[0m       \u001b[0;32mcontinue\u001b[0m\u001b[0;34m\u001b[0m\u001b[0;34m\u001b[0m\u001b[0m\n\u001b[1;32m     98\u001b[0m     if (\n",
            "\u001b[0;31mKeyboardInterrupt\u001b[0m: "
          ]
        }
      ]
    },
    {
      "cell_type": "code",
      "metadata": {
        "id": "V621ynTxdvWY"
      },
      "source": [
        "#TEAM REGISTRATION\n",
        "#going to create sample team registrations\n",
        "#drop nans\n",
        "df = (pd.DataFrame.from_records(gs_teams.get_all_values())\n",
        "      .replace('', np.NaN)\n",
        "      .dropna())\n",
        "\n",
        "col = df.iloc[0]\n",
        "df = df.drop(df.index[0])\n",
        "df = df.reset_index(drop=True)\n",
        "df = df.rename(columns=col)\n",
        "\n",
        "\n",
        "#reanming columns\n",
        "df.columns = [x.strip().lower().replace(\" \", \"_\") for x in df.columns]\n",
        "\n",
        "for i in [1,2,3]:\n",
        "  df['netid_-_member_' + str(i)] = df['netid_-_member_' + str(i)].str.lower().str.strip()\n",
        "\n",
        "df"
      ],
      "execution_count": null,
      "outputs": []
    },
    {
      "cell_type": "code",
      "metadata": {
        "id": "LXMBvFqnfqTD"
      },
      "source": [
        "#two dictionaries\n",
        "#dictionary for netid - team\n",
        "dic_id_team = {}\n",
        "#dictionary for team - members (will display this as a table in the website, just to show who has registered)\n",
        "dic_team_names = {}\n",
        "\n",
        "def registerteam (row):\n",
        "  #append to dic netid - team\n",
        "  dic_id_team[row.loc['netid_-_member_1']] = row.loc['team_name']\n",
        "  dic_id_team[row.loc['netid_-_member_2']] = row.loc['team_name']\n",
        "  dic_id_team[row.loc['netid_-_member_3']] = row.loc['team_name']\n",
        "  #append to dic team - names\n",
        "  dic_team_names[row.loc['team_name']] = [row.loc['first_name_-_member_1'], row.loc['first_name_-_member_2'], row.loc['first_name_-_member_3']]\n",
        "\n",
        "#create dictionaries\n",
        "df.apply(registerteam,axis=1)\n",
        "\n",
        "#print dicitonaries\n",
        "print(dic_id_team)\n",
        "print(dic_team_names)\n",
        "\n",
        "#OUTPUT TABLE - team reigstration\n",
        "df_teams = pd.DataFrame(dic_team_names).T\n",
        "\n",
        "\n",
        "print(df_teams.to_markdown())\n",
        "\n"
      ],
      "execution_count": null,
      "outputs": []
    },
    {
      "cell_type": "code",
      "metadata": {
        "id": "0NdRqVftwjBl"
      },
      "source": [
        "#CHALLENGE\n",
        "\n",
        "#load df\n",
        "#construct Nans\n",
        "df = (pd.DataFrame.from_records(gs_challenge.get_all_values())\n",
        "      .replace('', np.NaN))\n",
        "col = df.iloc[0]\n",
        "df = df.drop(df.index[0])\n",
        "df = df.reset_index(drop=True)\n",
        "df = df.rename(columns=col)\n",
        "\n",
        "#reanming columns\n",
        "df.columns = [x.strip().lower().replace(\" \", \"_\") for x in df.columns]\n",
        "df.rename(columns = {'leaderboard_nickname':'leaderboard', 'did_you_swim_more_than_once_today?': 'swam_more_than_once'}, inplace = True)\n",
        "\n",
        "#drop empty rows\n",
        "df = df.dropna(subset=['timestamp', 'netid', 'first_name', 'last_name', 'distance', 'date_you_swam', 'class'])\n",
        "\n",
        "#lowercase netid and strip\n",
        "df.netid = df['netid'].str.lower().str.strip()\n",
        "#lower case class\n",
        "df['class'] = df['class'].str.lower()\n",
        "#replace @nyu edu if someone puts email instead of id\n",
        "df['netid'] = df['netid'].astype(str).str.lower().replace('@.*', '', regex=True)\n",
        "\n",
        "#replace leaderboard entires\n",
        "df['leaderboard'] = df['leaderboard'].replace('Yes.*', '1', regex= True)\n",
        "df['leaderboard'] = df['leaderboard'].replace('No.*', '0', regex= True)\n",
        "df['leaderboard'] = pd.to_numeric(df.leaderboard)\n",
        "#make distance a interger\n",
        "df.distance = pd.to_numeric(df.distance)\n",
        "\n",
        "#timestamp conversion - doesnt work in python shell - not sure why\n",
        "df.timestamp = pd.to_datetime(df.timestamp)\n",
        "df.date_you_swam = df.date_you_swam.apply(lambda x: x.split('(')[0].strip()+'-2021')\n",
        "df.date_you_swam = pd.to_datetime(df.date_you_swam , format='%b %d-%Y')\n",
        "df"
      ],
      "execution_count": null,
      "outputs": []
    },
    {
      "cell_type": "code",
      "metadata": {
        "id": "8vk7hc0byaHh"
      },
      "source": [
        "df.dtypes"
      ],
      "execution_count": null,
      "outputs": []
    },
    {
      "cell_type": "code",
      "metadata": {
        "id": "01CLXZuUi6L6"
      },
      "source": [
        "for k, sdf in df.groupby(['netid', 'date_you_swam']):\n",
        "  if len(sdf)>1:\n",
        "    print(sdf[['timestamp', 'netid', 'first_name', 'distance', 'date_you_swam', 'time']])\n",
        "\n"
      ],
      "execution_count": null,
      "outputs": []
    },
    {
      "cell_type": "code",
      "metadata": {
        "id": "U8P76ehKcRJV"
      },
      "source": [
        "#anonymize\n",
        "cute_nicknames = ['Doplhin on a Study Away',\n",
        "                  'Falcon with Fins',\n",
        "                  'Turbo Gazelle',\n",
        "                  'Baby Shark',\n",
        "                  'Brave Turtle',\n",
        "                  'Little Penguin',\n",
        "                  'Vegan Shark',\n",
        "                  'Commited Clownfish',\n",
        "                  'Nemo looking for their major']\n",
        "\n",
        "random.seed(0)\n",
        "\n",
        "def anonym(row):\n",
        "  if row['leaderboard']  == 0:\n",
        "    row['first_name'] = random.choice(cute_nicknames) + ' '+ str(ord(row['netid'][0]) - 96)\n",
        "  else:\n",
        "    row['first_name'] = row['first_name'] + ' ' +  row['last_name'][0]\n",
        "  return row\n",
        "\n",
        "df = df.apply(anonym, axis= 1)\n",
        "df"
      ],
      "execution_count": null,
      "outputs": []
    },
    {
      "cell_type": "code",
      "metadata": {
        "id": "IzcnSebNf9p1"
      },
      "source": [
        "#removing duplicate data\n",
        "#df_removed_duplicated = df.drop_duplicates(subset=['netid', 'date_you_swam', 'distance'], keep='last')\n",
        "\n",
        "# df_droplog = pd.DataFrame()\n",
        "# mask = df.duplicated(subset=['netid', 'date_you_swam', 'distance'], keep='first')\n",
        "# df_keep = df.loc[~mask]\n",
        "# df_droplog = df_droplog.append(df.loc[mask])\n",
        "\n",
        "# df_keep\n",
        "# df_droplog\n",
        "\n"
      ],
      "execution_count": null,
      "outputs": []
    },
    {
      "cell_type": "code",
      "metadata": {
        "id": "2YtN4qisZ3sQ"
      },
      "source": [
        "def distance_today(i):\n",
        "\n",
        "  today = df[df.date_you_swam == ('2021-04-'+ i )].distance.sum()\n",
        "  return round(today/1000)\n",
        "\n",
        "\n"
      ],
      "execution_count": null,
      "outputs": []
    },
    {
      "cell_type": "code",
      "metadata": {
        "id": "tnTevA_OkKsb"
      },
      "source": [
        "#assign teams\n",
        "def teamcol(id):\n",
        "  if id in dic_id_team:\n",
        "    return dic_id_team[id]\n",
        "  else:\n",
        "    return np.NaN\n",
        "df['team'] = df.netid.apply(teamcol)\n",
        "\n",
        "#print(df[['team', 'distance']])\n",
        "#groupby teams\n",
        "#OUTPUT TABLE - team rankings\n",
        "rank_teams = df.groupby('team').agg({'distance': 'sum'}).sort_values(by = 'distance',ascending=False)\n",
        "\n",
        "\n",
        "print(rank_teams.to_markdown())"
      ],
      "execution_count": null,
      "outputs": []
    },
    {
      "cell_type": "code",
      "metadata": {
        "id": "eS66LBjxxUMr"
      },
      "source": [
        "rank_teams_byin = df.groupby(['team', 'netid']).agg({'distance': 'sum'}).reset_index(drop=False)\n",
        "\n",
        "ndf = {}\n",
        "def mytransform(sdf):\n",
        "  #print(sdf)\n",
        "  #print('----')\n",
        "  ndf[sdf['team'].iloc[0]] = sdf['distance'].T.to_list()\n",
        "  return sdf\n",
        "\n",
        "rank_teams_byin.groupby(['team']).apply(mytransform)\n",
        "\n",
        "ndf = pd.DataFrame.from_dict(ndf, orient='index', columns = ['member 1', 'member 2', 'member 3'])\n",
        "\n",
        "ndf['total'] = ndf.apply(lambda row: row.sum(), axis = 1)\n",
        "ndf = ndf.sort_values(by = 'total',ascending=False)\n",
        "sns.set()\n",
        "sns.set_style(\"whitegrid\")\n",
        "sns.set_palette('pastel')\n",
        "\n",
        "\n",
        "ndf[['member 1', 'member 2', 'member 3']].plot(kind='bar', stacked=True);\n",
        "labels = ['MVM', 'M & Colombians', 'Macrisgi', 'Bananas', '7AMs', 'Chrząszcze', 'Chonks']\n",
        "plt.gca().set_xticklabels(labels);\n",
        "plt.title('Distance Swam by Team in Meters', alpha = 0.9);\n",
        "\n"
      ],
      "execution_count": null,
      "outputs": []
    },
    {
      "cell_type": "code",
      "metadata": {
        "id": "s_1bzUlWqzhF"
      },
      "source": [
        "#group by individual\n",
        "rank_individual = df.groupby('netid').agg({'distance':'sum', 'first_name': 'first'}).sort_values(by=['distance'], ascending=False).reset_index()\n",
        "#rank_individual['full_name'] = rank_individual.apply(lambda row: row.first_name+' '+ row.last_name[0] , axis = 1)\n",
        "rank_individual['total_sessions'] = 0\n",
        "rank_individual['swim_session_dates'] = ''\n",
        "\n",
        "\n",
        "all_swimmers = df.netid.unique()\n",
        "\n",
        "def numsessions(row):\n",
        "  id = row['netid']\n",
        "  dates_list = df[df.netid == id].date_you_swam.array.strftime(\"%d\").tolist()\n",
        "  string = ''\n",
        "  for d in dates_list:\n",
        "    string = string +  str(d) + '-'\n",
        "  row['swim_session_dates'] = string\n",
        "  row['total_sessions'] = len(df[df.netid == row['netid']])\n",
        "  return row\n",
        "rank_individual = rank_individual.apply(numsessions, axis = 1)\n",
        "\n",
        "rank_individual = rank_individual.drop(columns=[ 'netid'])\n",
        "rank_individual.index = np.arange(1, len(rank_individual) + 1)\n",
        "#OUTPUT TABLE - rank individuals\n",
        "print(rank_individual.sort_values(by = 'distance',ascending=False).to_markdown())\n"
      ],
      "execution_count": null,
      "outputs": []
    },
    {
      "cell_type": "code",
      "metadata": {
        "id": "kilIGZIV5ZB8"
      },
      "source": [
        "now = datetime.now()+ timedelta(hours=4)\n",
        "print('# NYUAD Swim Challenge Leaderboard  ')\n",
        "print('April 5 - 11, 2021  ')\n",
        "print()\n",
        "print('Updated: ')\n",
        "print(now.strftime(\"%d/%m/%Y %H:%M\"))\n",
        "print()\n",
        "#print('Distance swam today: ' + str(distance_today(datetime.now().strftime(\"%d\")))+ ' kilometers  ')\n",
        "print('## Distance swam in total: ' + str(round(df.distance.sum()/1000)) + ' kilometers  ')\n",
        "print()\n",
        "#print('Number of swimmers today: ' + str(len(df[df.date_you_swam == ('2021-04-'+ datetime.now().strftime(\"%d\") )])) + '  ')\n",
        "print('Participants in total: ' + str(len(rank_individual)) + '  ')\n",
        "print()\n",
        "\n",
        "print('## Team Ranking  ')\n",
        "print('if you win team prize, you cannot win individual prize')\n",
        "print(rank_teams.to_markdown())\n",
        "\n",
        "print('## Individual Ranking  ')\n",
        "print(rank_individual.sort_values(by = 'distance',ascending=False).to_markdown())\n",
        "\n",
        "\n",
        "print('## Teams registered  ')\n",
        "print(df_teams.to_markdown())"
      ],
      "execution_count": null,
      "outputs": []
    },
    {
      "cell_type": "code",
      "metadata": {
        "id": "O4B_xbabEXld"
      },
      "source": [
        "rank_teams\n"
      ],
      "execution_count": null,
      "outputs": []
    },
    {
      "cell_type": "code",
      "metadata": {
        "id": "WWOS3s709NJG"
      },
      "source": [
        "\n",
        "dic_dist_day = {}\n",
        "for i in [5,6,7,8,9,10,11]:\n",
        "  i_s = str(i)\n",
        "  dic_dist_day['2021-04-'+ i_s] = distance_today(i_s)\n",
        "dic_dist_day\n",
        "\n",
        "distance_daily = pd.DataFrame.from_dict(dic_dist_day, orient='index', columns = ['Distance swam in kilometers'])\n",
        "distance_daily.index=pd.to_datetime(distance_daily.index)\n",
        "distance_daily.sort_index().cumsum().plot()\n",
        "ax = plt.gca()\n",
        "plt.legend([\"Cumulative Distance Swam in Kilometers\"]);\n",
        "\n",
        "# #good name and soften\n",
        "plt.title('NYUAD Swim Challenge 2', alpha = 0.9)\n",
        "# plt.xticks(pos, languages, alpha=0.8)\n",
        "\n",
        "# #removing ticks\n",
        "#plt.tick_params(bottom='off', left= 'off', labelleft = 'off', labelbottom = 'off')\n",
        "\n",
        "#remove frames\n",
        "for spine in plt.gca().spines.values():\n",
        "  spine.set_color(c = 'lightgray')\n",
        "\n"
      ],
      "execution_count": null,
      "outputs": []
    },
    {
      "cell_type": "code",
      "metadata": {
        "id": "tABBrKssuJc6"
      },
      "source": [
        "#load df\n",
        "\n",
        "#construct Nans\n",
        "df = (pd.DataFrame.from_records(gs_challenge1.get_all_values())\n",
        "      .replace('', np.NaN))\n",
        "col = df.iloc[0]\n",
        "df = df.drop(df.index[0])\n",
        "df = df.reset_index(drop=True)\n",
        "df = df.rename(columns=col)\n",
        "\n",
        "#reanming columns\n",
        "df.columns = [x.strip().lower().replace(\" \", \"_\") for x in df.columns]\n",
        "df.rename(columns = {'leaderboard_nickname':'leaderboard', 'did_you_swim_more_than_once_today?': 'swam_more_than_once'}, inplace = True)\n",
        "\n",
        "#drop empty rows\n",
        "df = df.dropna(subset=['timestamp', 'netid', 'first_name', 'last_name', 'distance', 'date_you_swam', 'class'])\n",
        "\n",
        "#lowercase netid and strip\n",
        "df.netid = df['netid'].str.lower().str.strip()\n",
        "#lower case class\n",
        "df['class'] = df['class'].str.lower()\n",
        "#replace @nyu edu if someone puts email instead of id\n",
        "df['netid'] = df['netid'].astype(str).str.lower().replace('@.*', '', regex=True)\n",
        "#cast distance to numeric\n",
        "df['distance'] = df['distance'].astype(str).str.lower().replace(',', '', regex=True).astype(int)\n",
        "\n",
        "\n",
        "#group by individual\n",
        "individual_rank_challenge_1 = df.groupby('netid').agg({'distance':'sum', 'first_name': 'first', 'last_name': 'first'}).sort_values(by=['distance'], ascending=False).reset_index()\n",
        "individual_rank_challenge_1.rename(columns = {'distance': 'distance1'}, inplace = True)\n",
        "\n",
        "individual_rank_challenge_1\n",
        "\n",
        "\n",
        "\n",
        "\n",
        "\n",
        "\n"
      ],
      "execution_count": null,
      "outputs": []
    },
    {
      "cell_type": "code",
      "metadata": {
        "id": "W8sjGLlPxFgZ"
      },
      "source": [
        "#CHALLENGE2 ranking for most imporved\n",
        "\n",
        "#load df\n",
        "#construct Nans\n",
        "df = (pd.DataFrame.from_records(gs_challenge.get_all_values())\n",
        "      .replace('', np.NaN))\n",
        "col = df.iloc[0]\n",
        "df = df.drop(df.index[0])\n",
        "df = df.reset_index(drop=True)\n",
        "df = df.rename(columns=col)\n",
        "\n",
        "#reanming columns\n",
        "df.columns = [x.strip().lower().replace(\" \", \"_\") for x in df.columns]\n",
        "df.rename(columns = {'leaderboard_nickname':'leaderboard', 'did_you_swim_more_than_once_today?': 'swam_more_than_once'}, inplace = True)\n",
        "\n",
        "#drop empty rows\n",
        "df = df.dropna(subset=['timestamp', 'netid', 'first_name', 'last_name', 'distance', 'date_you_swam', 'class'])\n",
        "\n",
        "#lowercase netid and strip\n",
        "df.netid = df['netid'].str.lower().str.strip()\n",
        "#lower case class\n",
        "df['class'] = df['class'].str.lower()\n",
        "#replace @nyu edu if someone puts email instead of id\n",
        "df['netid'] = df['netid'].astype(str).str.lower().replace('@.*', '', regex=True)\n",
        "\n",
        "#replace leaderboard entires\n",
        "df['leaderboard'] = df['leaderboard'].replace('Yes.*', '1', regex= True)\n",
        "df['leaderboard'] = df['leaderboard'].replace('No.*', '0', regex= True)\n",
        "df['leaderboard'] = pd.to_numeric(df.leaderboard)\n",
        "#make distance a interger\n",
        "df.distance = pd.to_numeric(df.distance)\n",
        "\n",
        "#timestamp conversion - doesnt work in python shell - not sure why\n",
        "df.timestamp = pd.to_datetime(df.timestamp)\n",
        "df.date_you_swam = df.date_you_swam.apply(lambda x: x.split('(')[0].strip()+'-2021')\n",
        "df.date_you_swam = pd.to_datetime(df.date_you_swam , format='%b %d-%Y')\n",
        "\n",
        "#group by individual\n",
        "individual_rank_challenge_2 = df.groupby('netid').agg({'distance':'sum', 'first_name': 'first', 'last_name': 'first'}).sort_values(by=['distance'], ascending=False).reset_index()\n",
        "individual_rank_challenge_2.rename(columns = {'distance': 'distance2'}, inplace = True)\n",
        "\n",
        "individual_rank_challenge_2"
      ],
      "execution_count": null,
      "outputs": []
    },
    {
      "cell_type": "code",
      "metadata": {
        "id": "2iNsJqUExvzu"
      },
      "source": [
        "\n",
        "most_improved = individual_rank_challenge_1.merge(individual_rank_challenge_2, how='inner', on='netid')\n",
        "most_improved['improvement'] = (most_improved.distance2 - most_improved.distance1)/most_improved.distance1\n",
        "most_improved.sort_values(by='improvement', ascending=False)\n"
      ],
      "execution_count": null,
      "outputs": []
    }
  ]
}